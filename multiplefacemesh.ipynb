{
 "cells": [
  {
   "cell_type": "code",
   "execution_count": 3,
   "metadata": {},
   "outputs": [],
   "source": [
    "import cv2\n",
    "import mediapipe as mp\n",
    "\n",
    "# Initialize webcam and FaceMesh\n",
    "cam = cv2.VideoCapture(0)\n",
    "mp_face_mesh = mp.solutions.face_mesh\n",
    "face_mesh = mp_face_mesh.FaceMesh(max_num_faces=2)  # Allow up to 2 faces\n",
    "\n",
    "# Drawing specifications\n",
    "drawing_spec = mp.solutions.drawing_utils.DrawingSpec(thickness=1, circle_radius=1)\n",
    "drawing_utils = mp.solutions.drawing_utils\n",
    "\n",
    "while True:\n",
    "    ret, frame = cam.read()\n",
    "    if not ret:\n",
    "        break\n",
    "\n",
    "    frame = cv2.flip(frame, 1)\n",
    "    rgb_frame = cv2.cvtColor(frame, cv2.COLOR_BGR2RGB)\n",
    "    output = face_mesh.process(rgb_frame)\n",
    "    frame_h, frame_w, _ = frame.shape\n",
    "\n",
    "    # Check if any faces are detected\n",
    "    if output.multi_face_landmarks:\n",
    "        # Iterate through each face detected\n",
    "        for face_landmarks in output.multi_face_landmarks:\n",
    "            # Draw the face mesh on the frame for each face\n",
    "            drawing_utils.draw_landmarks(\n",
    "                image=frame,\n",
    "                landmark_list=face_landmarks,\n",
    "                connections=mp_face_mesh.FACEMESH_TESSELATION,\n",
    "                landmark_drawing_spec=drawing_spec,\n",
    "                connection_drawing_spec=drawing_spec\n",
    "            )\n",
    "\n",
    "    cv2.imshow('Facemesh', frame)\n",
    "    \n",
    "    if cv2.waitKey(1) & 0xFF == ord('q'):\n",
    "        break\n",
    "\n",
    "cam.release()\n",
    "cv2.destroyAllWindows()\n"
   ]
  }
 ],
 "metadata": {
  "kernelspec": {
   "display_name": "Python 3",
   "language": "python",
   "name": "python3"
  },
  "language_info": {
   "codemirror_mode": {
    "name": "ipython",
    "version": 3
   },
   "file_extension": ".py",
   "mimetype": "text/x-python",
   "name": "python",
   "nbconvert_exporter": "python",
   "pygments_lexer": "ipython3",
   "version": "3.12.5"
  }
 },
 "nbformat": 4,
 "nbformat_minor": 2
}
